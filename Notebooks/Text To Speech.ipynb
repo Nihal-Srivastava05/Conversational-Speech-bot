{
 "cells": [
  {
   "cell_type": "code",
   "execution_count": 1,
   "id": "b355c170",
   "metadata": {},
   "outputs": [],
   "source": [
    "import torchaudio"
   ]
  },
  {
   "cell_type": "code",
   "execution_count": 2,
   "id": "6f3023cd",
   "metadata": {
    "scrolled": true
   },
   "outputs": [
    {
     "name": "stderr",
     "output_type": "stream",
     "text": [
      "The torchaudio backend is switched to 'soundfile'. Note that 'sox_io' is not supported on Windows.\n",
      "torchvision is not available - cannot save figures\n",
      "The torchaudio backend is switched to 'soundfile'. Note that 'sox_io' is not supported on Windows.\n"
     ]
    }
   ],
   "source": [
    "from speechbrain.pretrained import Tacotron2\n",
    "from speechbrain.pretrained import HIFIGAN"
   ]
  },
  {
   "cell_type": "code",
   "execution_count": 3,
   "id": "1ff64545",
   "metadata": {},
   "outputs": [
    {
     "data": {
      "application/vnd.jupyter.widget-view+json": {
       "model_id": "8040fb0074374895a8fb73ecad5de79e",
       "version_major": 2,
       "version_minor": 0
      },
      "text/plain": [
       "Downloading:   0%|          | 0.00/113M [00:00<?, ?B/s]"
      ]
     },
     "metadata": {},
     "output_type": "display_data"
    },
    {
     "data": {
      "application/vnd.jupyter.widget-view+json": {
       "model_id": "47ac4b79f6664179b3cdd7887603db67",
       "version_major": 2,
       "version_minor": 0
      },
      "text/plain": [
       "Downloading:   0%|          | 0.00/55.8M [00:00<?, ?B/s]"
      ]
     },
     "metadata": {},
     "output_type": "display_data"
    }
   ],
   "source": [
    "tacotron2 = Tacotron2.from_hparams(source=\"speechbrain/tts-tacotron2-ljspeech\", savedir=\"tmpdir_tts\")\n",
    "hifi_gan = HIFIGAN.from_hparams(source=\"speechbrain/tts-hifigan-ljspeech\", savedir=\"tmpdir_vocoder\")"
   ]
  },
  {
   "cell_type": "code",
   "execution_count": 4,
   "id": "063bbda3",
   "metadata": {},
   "outputs": [],
   "source": [
    "mel_output, mel_length, alignment = tacotron2.encode_text(\"The train from london will arrive at paris at four p.m.\")"
   ]
  },
  {
   "cell_type": "code",
   "execution_count": 5,
   "id": "31c4ce8c",
   "metadata": {},
   "outputs": [],
   "source": [
    "waveforms = hifi_gan.decode_batch(mel_output)"
   ]
  },
  {
   "cell_type": "code",
   "execution_count": 10,
   "id": "adeb362b",
   "metadata": {},
   "outputs": [],
   "source": [
    "torchaudio.save('audio.wav',waveforms.squeeze(1), 22050)"
   ]
  }
 ],
 "metadata": {
  "kernelspec": {
   "display_name": "Python 3.9 (Deep Learning)",
   "language": "python",
   "name": "deeplearning"
  },
  "language_info": {
   "codemirror_mode": {
    "name": "ipython",
    "version": 3
   },
   "file_extension": ".py",
   "mimetype": "text/x-python",
   "name": "python",
   "nbconvert_exporter": "python",
   "pygments_lexer": "ipython3",
   "version": "3.9.12"
  }
 },
 "nbformat": 4,
 "nbformat_minor": 5
}
