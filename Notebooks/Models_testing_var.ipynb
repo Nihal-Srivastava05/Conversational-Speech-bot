{
 "cells": [
  {
   "cell_type": "code",
   "execution_count": 1,
   "id": "a19edd1f",
   "metadata": {},
   "outputs": [],
   "source": [
    "import pandas as pd\n",
    "import numpy as np\n",
    "from transformers import pipeline"
   ]
  },
  {
   "cell_type": "code",
   "execution_count": null,
   "id": "1992692e",
   "metadata": {},
   "outputs": [
    {
     "data": {
      "application/vnd.jupyter.widget-view+json": {
       "model_id": "0840b46d6a504088a854dcd8aceb0aaa",
       "version_major": 2,
       "version_minor": 0
      },
      "text/plain": [
       "Downloading:   0%|          | 0.00/1.25G [00:00<?, ?B/s]"
      ]
     },
     "metadata": {},
     "output_type": "display_data"
    }
   ],
   "source": [
    "question_answer1 = pipeline(\"question-answering\", model=\"deepset/bert-large-uncased-whole-word-masking-squad2\")"
   ]
  },
  {
   "cell_type": "code",
   "execution_count": null,
   "id": "3e949897",
   "metadata": {},
   "outputs": [],
   "source": [
    "question_answer2 = pipeline(\"question-answering\", model=\"salti/bert-base-multilingual-cased-finetuned-squad\")"
   ]
  },
  {
   "cell_type": "code",
   "execution_count": null,
   "id": "a5d5e1d2",
   "metadata": {},
   "outputs": [],
   "source": [
    "question_answer3 = pipeline(\"question-answering\", model=\"salti/bert-base-multilingual-cased-finetuned-squad\")"
   ]
  }
 ],
 "metadata": {
  "kernelspec": {
   "display_name": "Python 3 (ipykernel)",
   "language": "python",
   "name": "python3"
  },
  "language_info": {
   "codemirror_mode": {
    "name": "ipython",
    "version": 3
   },
   "file_extension": ".py",
   "mimetype": "text/x-python",
   "name": "python",
   "nbconvert_exporter": "python",
   "pygments_lexer": "ipython3",
   "version": "3.9.0"
  }
 },
 "nbformat": 4,
 "nbformat_minor": 5
}
