{
 "cells": [
  {
   "cell_type": "code",
   "execution_count": 1,
   "id": "3c6e4fa4",
   "metadata": {},
   "outputs": [],
   "source": [
    "import pandas as pd\n",
    "import numpy as np"
   ]
  },
  {
   "cell_type": "code",
   "execution_count": 3,
   "id": "063c759f",
   "metadata": {},
   "outputs": [],
   "source": [
    "df=pd.read_csv('../Dataset/Flight_Timings.csv')"
   ]
  },
  {
   "cell_type": "code",
   "execution_count": 4,
   "id": "df3e8c6c",
   "metadata": {},
   "outputs": [
    {
     "data": {
      "text/html": [
       "<div>\n",
       "<style scoped>\n",
       "    .dataframe tbody tr th:only-of-type {\n",
       "        vertical-align: middle;\n",
       "    }\n",
       "\n",
       "    .dataframe tbody tr th {\n",
       "        vertical-align: top;\n",
       "    }\n",
       "\n",
       "    .dataframe thead th {\n",
       "        text-align: right;\n",
       "    }\n",
       "</style>\n",
       "<table border=\"1\" class=\"dataframe\">\n",
       "  <thead>\n",
       "    <tr style=\"text-align: right;\">\n",
       "      <th></th>\n",
       "      <th>From</th>\n",
       "      <th>To</th>\n",
       "      <th>Departure Time</th>\n",
       "      <th>Arrival Time</th>\n",
       "    </tr>\n",
       "  </thead>\n",
       "  <tbody>\n",
       "    <tr>\n",
       "      <th>0</th>\n",
       "      <td>Rwanda</td>\n",
       "      <td>Switzerland</td>\n",
       "      <td>02:51 AM</td>\n",
       "      <td>8:13 AM</td>\n",
       "    </tr>\n",
       "    <tr>\n",
       "      <th>1</th>\n",
       "      <td>United Kingdom</td>\n",
       "      <td>United States Minor Outlying Islands</td>\n",
       "      <td>09:58 AM</td>\n",
       "      <td>3:39 PM</td>\n",
       "    </tr>\n",
       "    <tr>\n",
       "      <th>2</th>\n",
       "      <td>United Arab Emirates</td>\n",
       "      <td>Bangladesh</td>\n",
       "      <td>06:22 PM</td>\n",
       "      <td>11:55 PM</td>\n",
       "    </tr>\n",
       "    <tr>\n",
       "      <th>3</th>\n",
       "      <td>Mexico</td>\n",
       "      <td>Australia</td>\n",
       "      <td>09:06 AM</td>\n",
       "      <td>12:02 PM</td>\n",
       "    </tr>\n",
       "    <tr>\n",
       "      <th>4</th>\n",
       "      <td>Hungary</td>\n",
       "      <td>Angola</td>\n",
       "      <td>08:55 PM</td>\n",
       "      <td>12:20 AM</td>\n",
       "    </tr>\n",
       "    <tr>\n",
       "      <th>...</th>\n",
       "      <td>...</td>\n",
       "      <td>...</td>\n",
       "      <td>...</td>\n",
       "      <td>...</td>\n",
       "    </tr>\n",
       "    <tr>\n",
       "      <th>244</th>\n",
       "      <td>Qatar</td>\n",
       "      <td>Bouvet Island</td>\n",
       "      <td>01:30 AM</td>\n",
       "      <td>4:49 AM</td>\n",
       "    </tr>\n",
       "    <tr>\n",
       "      <th>245</th>\n",
       "      <td>Mozambique</td>\n",
       "      <td>Guyana</td>\n",
       "      <td>02:49 AM</td>\n",
       "      <td>3:24 AM</td>\n",
       "    </tr>\n",
       "    <tr>\n",
       "      <th>246</th>\n",
       "      <td>United Arab Emirates</td>\n",
       "      <td>Liechtenstein</td>\n",
       "      <td>11:05 AM</td>\n",
       "      <td>11:25 AM</td>\n",
       "    </tr>\n",
       "    <tr>\n",
       "      <th>247</th>\n",
       "      <td>Cuba</td>\n",
       "      <td>Yemen</td>\n",
       "      <td>10:17 AM</td>\n",
       "      <td>12:14 PM</td>\n",
       "    </tr>\n",
       "    <tr>\n",
       "      <th>248</th>\n",
       "      <td>Hungary</td>\n",
       "      <td>Guyana</td>\n",
       "      <td>08:25 AM</td>\n",
       "      <td>10:50 AM</td>\n",
       "    </tr>\n",
       "  </tbody>\n",
       "</table>\n",
       "<p>249 rows × 4 columns</p>\n",
       "</div>"
      ],
      "text/plain": [
       "                     From                                    To  \\\n",
       "0                  Rwanda                           Switzerland   \n",
       "1          United Kingdom  United States Minor Outlying Islands   \n",
       "2    United Arab Emirates                            Bangladesh   \n",
       "3                  Mexico                             Australia   \n",
       "4                 Hungary                                Angola   \n",
       "..                    ...                                   ...   \n",
       "244                 Qatar                         Bouvet Island   \n",
       "245            Mozambique                                Guyana   \n",
       "246  United Arab Emirates                         Liechtenstein   \n",
       "247                  Cuba                                 Yemen   \n",
       "248               Hungary                                Guyana   \n",
       "\n",
       "    Departure Time Arrival Time  \n",
       "0         02:51 AM      8:13 AM  \n",
       "1         09:58 AM      3:39 PM  \n",
       "2         06:22 PM     11:55 PM  \n",
       "3         09:06 AM     12:02 PM  \n",
       "4         08:55 PM     12:20 AM  \n",
       "..             ...          ...  \n",
       "244       01:30 AM      4:49 AM  \n",
       "245       02:49 AM      3:24 AM  \n",
       "246       11:05 AM     11:25 AM  \n",
       "247       10:17 AM     12:14 PM  \n",
       "248       08:25 AM     10:50 AM  \n",
       "\n",
       "[249 rows x 4 columns]"
      ]
     },
     "execution_count": 4,
     "metadata": {},
     "output_type": "execute_result"
    }
   ],
   "source": [
    "df"
   ]
  },
  {
   "cell_type": "code",
   "execution_count": 5,
   "id": "24226eae",
   "metadata": {},
   "outputs": [],
   "source": [
    "df['text']=df['From']+' '+df['To']+' '+df['Departure Time']+' '+df['Arrival Time']"
   ]
  },
  {
   "cell_type": "code",
   "execution_count": 7,
   "id": "bb09d0be",
   "metadata": {},
   "outputs": [
    {
     "data": {
      "text/plain": [
       "From              0\n",
       "To                0\n",
       "Departure Time    0\n",
       "Arrival Time      0\n",
       "text              0\n",
       "dtype: int64"
      ]
     },
     "execution_count": 7,
     "metadata": {},
     "output_type": "execute_result"
    }
   ],
   "source": [
    "df.isnull().sum()"
   ]
  },
  {
   "cell_type": "code",
   "execution_count": null,
   "id": "af21f96f",
   "metadata": {},
   "outputs": [],
   "source": []
  },
  {
   "cell_type": "code",
   "execution_count": null,
   "id": "ea132281",
   "metadata": {},
   "outputs": [],
   "source": []
  }
 ],
 "metadata": {
  "kernelspec": {
   "display_name": "Python 3 (ipykernel)",
   "language": "python",
   "name": "python3"
  },
  "language_info": {
   "codemirror_mode": {
    "name": "ipython",
    "version": 3
   },
   "file_extension": ".py",
   "mimetype": "text/x-python",
   "name": "python",
   "nbconvert_exporter": "python",
   "pygments_lexer": "ipython3",
   "version": "3.9.0"
  }
 },
 "nbformat": 4,
 "nbformat_minor": 5
}
