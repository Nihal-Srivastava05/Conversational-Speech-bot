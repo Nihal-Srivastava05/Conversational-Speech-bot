{
 "cells": [
  {
   "cell_type": "markdown",
   "id": "db48a3a5",
   "metadata": {},
   "source": [
    "# Data Preprocessing"
   ]
  },
  {
   "cell_type": "code",
   "execution_count": 1,
   "id": "3c6e4fa4",
   "metadata": {},
   "outputs": [],
   "source": [
    "import pandas as pd\n",
    "import numpy as np\n",
    "import matplotlib.pyplot as plt\n",
    "import seaborn as sns"
   ]
  },
  {
   "cell_type": "code",
   "execution_count": 2,
   "id": "f698d1c9",
   "metadata": {},
   "outputs": [],
   "source": [
    "from tqdm import tqdm"
   ]
  },
  {
   "cell_type": "code",
   "execution_count": 3,
   "id": "063c759f",
   "metadata": {},
   "outputs": [],
   "source": [
    "df=pd.read_csv('../Dataset/Flight_Timings.csv')"
   ]
  },
  {
   "cell_type": "code",
   "execution_count": 4,
   "id": "df3e8c6c",
   "metadata": {},
   "outputs": [
    {
     "data": {
      "text/html": [
       "<div>\n",
       "<style scoped>\n",
       "    .dataframe tbody tr th:only-of-type {\n",
       "        vertical-align: middle;\n",
       "    }\n",
       "\n",
       "    .dataframe tbody tr th {\n",
       "        vertical-align: top;\n",
       "    }\n",
       "\n",
       "    .dataframe thead th {\n",
       "        text-align: right;\n",
       "    }\n",
       "</style>\n",
       "<table border=\"1\" class=\"dataframe\">\n",
       "  <thead>\n",
       "    <tr style=\"text-align: right;\">\n",
       "      <th></th>\n",
       "      <th>From</th>\n",
       "      <th>To</th>\n",
       "      <th>Departure Time</th>\n",
       "      <th>Arrival Time</th>\n",
       "    </tr>\n",
       "  </thead>\n",
       "  <tbody>\n",
       "    <tr>\n",
       "      <th>0</th>\n",
       "      <td>Rwanda</td>\n",
       "      <td>Switzerland</td>\n",
       "      <td>02:51 AM</td>\n",
       "      <td>8:13 AM</td>\n",
       "    </tr>\n",
       "    <tr>\n",
       "      <th>1</th>\n",
       "      <td>United Kingdom</td>\n",
       "      <td>United States Minor Outlying Islands</td>\n",
       "      <td>09:58 AM</td>\n",
       "      <td>3:39 PM</td>\n",
       "    </tr>\n",
       "    <tr>\n",
       "      <th>2</th>\n",
       "      <td>United Arab Emirates</td>\n",
       "      <td>Bangladesh</td>\n",
       "      <td>06:22 PM</td>\n",
       "      <td>11:55 PM</td>\n",
       "    </tr>\n",
       "    <tr>\n",
       "      <th>3</th>\n",
       "      <td>Mexico</td>\n",
       "      <td>Australia</td>\n",
       "      <td>09:06 AM</td>\n",
       "      <td>12:02 PM</td>\n",
       "    </tr>\n",
       "    <tr>\n",
       "      <th>4</th>\n",
       "      <td>Hungary</td>\n",
       "      <td>Angola</td>\n",
       "      <td>08:55 PM</td>\n",
       "      <td>12:20 AM</td>\n",
       "    </tr>\n",
       "  </tbody>\n",
       "</table>\n",
       "</div>"
      ],
      "text/plain": [
       "                   From                                    To Departure Time  \\\n",
       "0                Rwanda                           Switzerland       02:51 AM   \n",
       "1        United Kingdom  United States Minor Outlying Islands       09:58 AM   \n",
       "2  United Arab Emirates                            Bangladesh       06:22 PM   \n",
       "3                Mexico                             Australia       09:06 AM   \n",
       "4               Hungary                                Angola       08:55 PM   \n",
       "\n",
       "  Arrival Time  \n",
       "0      8:13 AM  \n",
       "1      3:39 PM  \n",
       "2     11:55 PM  \n",
       "3     12:02 PM  \n",
       "4     12:20 AM  "
      ]
     },
     "execution_count": 4,
     "metadata": {},
     "output_type": "execute_result"
    }
   ],
   "source": [
    "df.head()"
   ]
  },
  {
   "cell_type": "code",
   "execution_count": 5,
   "id": "73a62852",
   "metadata": {},
   "outputs": [
    {
     "name": "stdout",
     "output_type": "stream",
     "text": [
      "<class 'pandas.core.frame.DataFrame'>\n",
      "RangeIndex: 249 entries, 0 to 248\n",
      "Data columns (total 4 columns):\n",
      " #   Column          Non-Null Count  Dtype \n",
      "---  ------          --------------  ----- \n",
      " 0   From            249 non-null    object\n",
      " 1   To              249 non-null    object\n",
      " 2   Departure Time  249 non-null    object\n",
      " 3   Arrival Time    249 non-null    object\n",
      "dtypes: object(4)\n",
      "memory usage: 7.9+ KB\n"
     ]
    }
   ],
   "source": [
    "df.info()"
   ]
  },
  {
   "cell_type": "code",
   "execution_count": 6,
   "id": "9e497c54",
   "metadata": {},
   "outputs": [],
   "source": [
    "text = []\n",
    "for r in df.iterrows():\n",
    "    row = r[1]\n",
    "    active_sentence = \"The Bus starts from \" + row['From'] + \" at \" + row['Departure Time'] + \" and goes to \" + row['To'] + \" reaching at \" + row['Arrival Time']\n",
    "    passive_sentence = \"The bus arrives at \" + row['To'] + \" by \" + row['Arrival Time'] + \" after departing from \" + row['From'] + \" at \" + row[\"Arrival Time\"]\n",
    "    text.append(active_sentence)\n",
    "    text.append(passive_sentence)"
   ]
  },
  {
   "cell_type": "code",
   "execution_count": 7,
   "id": "9a10cfdd",
   "metadata": {},
   "outputs": [
    {
     "name": "stdout",
     "output_type": "stream",
     "text": [
      "Active Voice: The Bus starts from Rwanda at 02:51 AM and goes to Switzerland reaching at 8:13 AM\n",
      "Passive voice: The bus arrives at Switzerland by 8:13 AM after departing from Rwanda at 8:13 AM\n"
     ]
    }
   ],
   "source": [
    "print(\"Active Voice:\",text[0])\n",
    "print(\"Passive voice:\", text[1])"
   ]
  },
  {
   "cell_type": "code",
   "execution_count": 8,
   "id": "24dd86eb",
   "metadata": {},
   "outputs": [
    {
     "data": {
      "text/plain": [
       "82"
      ]
     },
     "execution_count": 8,
     "metadata": {},
     "output_type": "execute_result"
    }
   ],
   "source": [
    "len(text[0])"
   ]
  },
  {
   "cell_type": "code",
   "execution_count": 9,
   "id": "fab31f46",
   "metadata": {
    "scrolled": true
   },
   "outputs": [
    {
     "data": {
      "text/plain": [
       "498"
      ]
     },
     "execution_count": 9,
     "metadata": {},
     "output_type": "execute_result"
    }
   ],
   "source": [
    "len(text)"
   ]
  },
  {
   "cell_type": "code",
   "execution_count": 10,
   "id": "7a03d45a",
   "metadata": {},
   "outputs": [],
   "source": [
    "text.remove(\"The Bus starts from French Guiana at 02:04 PM and goes to Yemen reaching at 4:15 PM\")"
   ]
  },
  {
   "cell_type": "code",
   "execution_count": 11,
   "id": "b37f4c65",
   "metadata": {},
   "outputs": [
    {
     "data": {
      "text/plain": [
       "497"
      ]
     },
     "execution_count": 11,
     "metadata": {},
     "output_type": "execute_result"
    }
   ],
   "source": [
    "len(text)"
   ]
  },
  {
   "cell_type": "code",
   "execution_count": 12,
   "id": "53fe1c0f",
   "metadata": {},
   "outputs": [
    {
     "data": {
      "text/plain": [
       "496"
      ]
     },
     "execution_count": 12,
     "metadata": {},
     "output_type": "execute_result"
    }
   ],
   "source": [
    "text.remove(\"The bus arrives at Yemen by 4:15 PM after departing from French Guiana at 4:15 PM\")\n",
    "len(text)"
   ]
  },
  {
   "cell_type": "code",
   "execution_count": 13,
   "id": "c0989ca0",
   "metadata": {},
   "outputs": [
    {
     "data": {
      "text/plain": [
       "450"
      ]
     },
     "execution_count": 13,
     "metadata": {},
     "output_type": "execute_result"
    }
   ],
   "source": [
    "text.index(\"The Bus starts from Palau at 04:15 PM and goes to Sweden reaching at 4:45 PM\")"
   ]
  },
  {
   "cell_type": "code",
   "execution_count": 14,
   "id": "a096b733",
   "metadata": {},
   "outputs": [
    {
     "data": {
      "text/plain": [
       "494"
      ]
     },
     "execution_count": 14,
     "metadata": {},
     "output_type": "execute_result"
    }
   ],
   "source": [
    "text.remove(\"The Bus starts from Palau at 04:15 PM and goes to Sweden reaching at 4:45 PM\")\n",
    "text.remove(\"The bus arrives at Sweden by 4:45 PM after departing from Palau at 4:45 PM\")\n",
    "len(text)"
   ]
  },
  {
   "cell_type": "markdown",
   "id": "048c1bca",
   "metadata": {},
   "source": [
    "### Paraphrasing the data"
   ]
  },
  {
   "cell_type": "code",
   "execution_count": 15,
   "id": "4a742d6e",
   "metadata": {},
   "outputs": [],
   "source": [
    "import torch\n",
    "from transformers import PegasusForConditionalGeneration, PegasusTokenizer"
   ]
  },
  {
   "cell_type": "code",
   "execution_count": 16,
   "id": "b8515feb",
   "metadata": {},
   "outputs": [],
   "source": [
    "model_name = 'tuner007/pegasus_paraphrase'\n",
    "torch_device = 'cuda' if torch.cuda.is_available() else 'cpu'"
   ]
  },
  {
   "cell_type": "code",
   "execution_count": 17,
   "id": "dcaf0223",
   "metadata": {},
   "outputs": [
    {
     "data": {
      "text/plain": [
       "'cuda'"
      ]
     },
     "execution_count": 17,
     "metadata": {},
     "output_type": "execute_result"
    }
   ],
   "source": [
    "torch_device"
   ]
  },
  {
   "cell_type": "code",
   "execution_count": 18,
   "id": "66bb722f",
   "metadata": {},
   "outputs": [],
   "source": [
    "tokenizer = PegasusTokenizer.from_pretrained(model_name)\n",
    "model = PegasusForConditionalGeneration.from_pretrained(model_name).to(torch_device)"
   ]
  },
  {
   "cell_type": "markdown",
   "id": "27f78149",
   "metadata": {},
   "source": [
    "Old Apporach"
   ]
  },
  {
   "cell_type": "code",
   "execution_count": 13,
   "id": "22ccd72a",
   "metadata": {},
   "outputs": [],
   "source": [
    "def get_response(input_text, num_return_sequences):\n",
    "    input_len = len(input_text)\n",
    "    batch = tokenizer.prepare_seq2seq_batch([input_text],truncation=True,padding='longest',max_length=100, return_tensors=\"pt\").to(torch_device)\n",
    "    translated = model.generate(**batch, max_length=100, num_beams=10, num_return_sequences=num_return_sequences, temperature=1)\n",
    "    tgt_text = tokenizer.batch_decode(translated, skip_special_tokens=True)\n",
    "    return tgt_text"
   ]
  },
  {
   "cell_type": "markdown",
   "id": "7d59a0e4",
   "metadata": {},
   "source": [
    "New approach"
   ]
  },
  {
   "cell_type": "code",
   "execution_count": 19,
   "id": "fd9c6a0d",
   "metadata": {},
   "outputs": [],
   "source": [
    "def get_response(input_text, num_return_sequences):\n",
    "    input_len = len(input_text)\n",
    "    batch = tokenizer([input_text], truncation=True, padding='longest', max_length=100, return_tensors=\"pt\").to(torch_device)\n",
    "    translated = model.generate(**batch, max_length=100, num_beams=10, num_return_sequences=num_return_sequences, temperature=1)\n",
    "    tgt_text = tokenizer.batch_decode(translated, skip_special_tokens=True)\n",
    "    \n",
    "    return tgt_text"
   ]
  },
  {
   "cell_type": "code",
   "execution_count": 14,
   "id": "8a48f3a9",
   "metadata": {},
   "outputs": [],
   "source": [
    "batch = tokenizer([text[0]], truncation=True, padding='longest', max_length=100, return_tensors=\"pt\").to(torch_device)"
   ]
  },
  {
   "cell_type": "code",
   "execution_count": 15,
   "id": "e7db5c59",
   "metadata": {},
   "outputs": [
    {
     "data": {
      "text/plain": [
       "{'input_ids': tensor([[  139,  7588,  2171,   135, 23321,   134, 73057,   740,  3887,   111,\n",
       "          1168,   112,  7317,  4379,   134,   110, 88831,  3887,     1]],\n",
       "       device='cuda:0'), 'attention_mask': tensor([[1, 1, 1, 1, 1, 1, 1, 1, 1, 1, 1, 1, 1, 1, 1, 1, 1, 1, 1]],\n",
       "       device='cuda:0')}"
      ]
     },
     "execution_count": 15,
     "metadata": {},
     "output_type": "execute_result"
    }
   ],
   "source": [
    "batch"
   ]
  },
  {
   "cell_type": "code",
   "execution_count": 16,
   "id": "a802a66a",
   "metadata": {},
   "outputs": [
    {
     "data": {
      "text/plain": [
       "tensor([[    0,   139,  2238,  1168,   135, 23321,   112,  7317,   134,   110,\n",
       "         88831,  3887,   107,     1,     0,     0,     0,     0,     0,     0],\n",
       "        [    0,   139,  2238,  2163, 23321,   134, 73057,   740,  3887,   111,\n",
       "          1168,   112,  7317,   134,   110, 88831,  3887,   107,     1,     0],\n",
       "        [    0,   139,  2238,  2163,   135, 23321,   134, 73057,   740,  3887,\n",
       "           111,  1168,   112,  7317,   134,   110, 88831,  3887,   107,     1]],\n",
       "       device='cuda:0')"
      ]
     },
     "execution_count": 16,
     "metadata": {},
     "output_type": "execute_result"
    }
   ],
   "source": [
    "translated = model.generate(**batch, max_length=100, num_beams=5, num_return_sequences=3)\n",
    "translated"
   ]
  },
  {
   "cell_type": "code",
   "execution_count": 17,
   "id": "da1b8212",
   "metadata": {},
   "outputs": [
    {
     "data": {
      "text/plain": [
       "['The bus goes from Rwanda to Switzerland at 8:13 AM.',\n",
       " 'The bus leaves Rwanda at 02:51 AM and goes to Switzerland at 8:13 AM.',\n",
       " 'The bus leaves from Rwanda at 02:51 AM and goes to Switzerland at 8:13 AM.']"
      ]
     },
     "execution_count": 17,
     "metadata": {},
     "output_type": "execute_result"
    }
   ],
   "source": [
    "tokenizer.batch_decode(translated, skip_special_tokens=True)"
   ]
  },
  {
   "cell_type": "code",
   "execution_count": 20,
   "id": "42aa7a7b",
   "metadata": {},
   "outputs": [
    {
     "data": {
      "text/plain": [
       "'The Bus starts from Rwanda at 02:51 AM and goes to Switzerland reaching at 8:13 AM'"
      ]
     },
     "execution_count": 20,
     "metadata": {},
     "output_type": "execute_result"
    }
   ],
   "source": [
    "text[0]"
   ]
  },
  {
   "cell_type": "code",
   "execution_count": 21,
   "id": "74d37665",
   "metadata": {
    "scrolled": true
   },
   "outputs": [
    {
     "data": {
      "text/plain": [
       "['The bus goes from Rwanda to Switzerland at 8:13 AM.',\n",
       " 'The bus leaves Rwanda at 02:51 AM and goes to Switzerland at 8:13 AM.',\n",
       " 'The bus leaves from Rwanda at 02:51 AM and goes to Switzerland at 8:13 AM.']"
      ]
     },
     "execution_count": 21,
     "metadata": {},
     "output_type": "execute_result"
    }
   ],
   "source": [
    "get_response(text[0], 3)"
   ]
  },
  {
   "cell_type": "code",
   "execution_count": 18,
   "id": "1843972b",
   "metadata": {},
   "outputs": [
    {
     "data": {
      "text/plain": [
       "82"
      ]
     },
     "execution_count": 18,
     "metadata": {},
     "output_type": "execute_result"
    }
   ],
   "source": [
    "len(text[0])"
   ]
  },
  {
   "cell_type": "code",
   "execution_count": 19,
   "id": "10941693",
   "metadata": {},
   "outputs": [
    {
     "data": {
      "text/plain": [
       "57"
      ]
     },
     "execution_count": 19,
     "metadata": {},
     "output_type": "execute_result"
    }
   ],
   "source": [
    "82 - 25"
   ]
  },
  {
   "cell_type": "code",
   "execution_count": 20,
   "id": "46742e42",
   "metadata": {},
   "outputs": [
    {
     "data": {
      "text/plain": [
       "51"
      ]
     },
     "execution_count": 20,
     "metadata": {},
     "output_type": "execute_result"
    }
   ],
   "source": [
    "len('The bus goes from Rwanda to Switzerland at 8:13 AM.')"
   ]
  },
  {
   "cell_type": "code",
   "execution_count": 22,
   "id": "8f118044",
   "metadata": {},
   "outputs": [
    {
     "name": "stderr",
     "output_type": "stream",
     "text": [
      "100%|██████████████████████████████████████████████████████████████████████████████████| 44/44 [00:29<00:00,  1.50it/s]\n"
     ]
    }
   ],
   "source": [
    "paraphrased_text = []\n",
    "for sentence in tqdm(text[450:]):\n",
    "    try:\n",
    "        paraphrased_sentences = get_response(sentence, 3)\n",
    "        for p_sent in paraphrased_sentences:\n",
    "            if(len(p_sent) > len(sentence)-25):\n",
    "                paraphrased_text.append(p_sent)\n",
    "    except:\n",
    "        print(sentence)\n",
    "        continue"
   ]
  },
  {
   "cell_type": "code",
   "execution_count": 23,
   "id": "326664bd",
   "metadata": {},
   "outputs": [
    {
     "data": {
      "text/plain": [
       "1068"
      ]
     },
     "execution_count": 23,
     "metadata": {},
     "output_type": "execute_result"
    }
   ],
   "source": [
    "len(paraphrased_text)"
   ]
  },
  {
   "cell_type": "code",
   "execution_count": 29,
   "id": "4302b0e6",
   "metadata": {},
   "outputs": [],
   "source": [
    "final_text = []\n",
    "final_text += text\n",
    "final_text += paraphrased_text"
   ]
  },
  {
   "cell_type": "code",
   "execution_count": 31,
   "id": "234a035f",
   "metadata": {},
   "outputs": [
    {
     "data": {
      "text/plain": [
       "1564"
      ]
     },
     "execution_count": 31,
     "metadata": {},
     "output_type": "execute_result"
    }
   ],
   "source": [
    "len(final_text)"
   ]
  },
  {
   "cell_type": "code",
   "execution_count": 38,
   "id": "248528bf",
   "metadata": {},
   "outputs": [],
   "source": [
    "final_text.append(\"The Bus starts from French Guiana at 02:04 PM and goes to Yemen reaching at 4:15 PM\")\n",
    "final_text.append(\"The bus arrives at Yemen by 4:15 PM after departing from French Guiana at 4:15 PM\")"
   ]
  },
  {
   "cell_type": "code",
   "execution_count": 39,
   "id": "ef6842c9",
   "metadata": {},
   "outputs": [
    {
     "data": {
      "text/plain": [
       "1566"
      ]
     },
     "execution_count": 39,
     "metadata": {},
     "output_type": "execute_result"
    }
   ],
   "source": [
    "len(final_text)"
   ]
  },
  {
   "cell_type": "code",
   "execution_count": 40,
   "id": "f42d63cb",
   "metadata": {},
   "outputs": [],
   "source": [
    "paraphrased_df = pd.DataFrame({'text': final_text})"
   ]
  },
  {
   "cell_type": "code",
   "execution_count": 41,
   "id": "497340e6",
   "metadata": {},
   "outputs": [
    {
     "data": {
      "text/html": [
       "<div>\n",
       "<style scoped>\n",
       "    .dataframe tbody tr th:only-of-type {\n",
       "        vertical-align: middle;\n",
       "    }\n",
       "\n",
       "    .dataframe tbody tr th {\n",
       "        vertical-align: top;\n",
       "    }\n",
       "\n",
       "    .dataframe thead th {\n",
       "        text-align: right;\n",
       "    }\n",
       "</style>\n",
       "<table border=\"1\" class=\"dataframe\">\n",
       "  <thead>\n",
       "    <tr style=\"text-align: right;\">\n",
       "      <th></th>\n",
       "      <th>text</th>\n",
       "    </tr>\n",
       "  </thead>\n",
       "  <tbody>\n",
       "    <tr>\n",
       "      <th>0</th>\n",
       "      <td>The Bus starts from Rwanda at 02:51 AM and goe...</td>\n",
       "    </tr>\n",
       "    <tr>\n",
       "      <th>1</th>\n",
       "      <td>The bus arrives at Switzerland by 8:13 AM afte...</td>\n",
       "    </tr>\n",
       "    <tr>\n",
       "      <th>2</th>\n",
       "      <td>The Bus starts from United Kingdom at 09:58 AM...</td>\n",
       "    </tr>\n",
       "    <tr>\n",
       "      <th>3</th>\n",
       "      <td>The bus arrives at United States Minor Outlyin...</td>\n",
       "    </tr>\n",
       "    <tr>\n",
       "      <th>4</th>\n",
       "      <td>The Bus starts from United Arab Emirates at 06...</td>\n",
       "    </tr>\n",
       "  </tbody>\n",
       "</table>\n",
       "</div>"
      ],
      "text/plain": [
       "                                                text\n",
       "0  The Bus starts from Rwanda at 02:51 AM and goe...\n",
       "1  The bus arrives at Switzerland by 8:13 AM afte...\n",
       "2  The Bus starts from United Kingdom at 09:58 AM...\n",
       "3  The bus arrives at United States Minor Outlyin...\n",
       "4  The Bus starts from United Arab Emirates at 06..."
      ]
     },
     "execution_count": 41,
     "metadata": {},
     "output_type": "execute_result"
    }
   ],
   "source": [
    "paraphrased_df.head()"
   ]
  },
  {
   "cell_type": "code",
   "execution_count": 42,
   "id": "1ed56832",
   "metadata": {},
   "outputs": [],
   "source": [
    "paraphrased_df.to_csv(\"../Dataset/paraphrased_data.csv\", index=False)"
   ]
  },
  {
   "cell_type": "code",
   "execution_count": 24,
   "id": "1a4f8c14",
   "metadata": {},
   "outputs": [
    {
     "data": {
      "text/plain": [
       "100"
      ]
     },
     "execution_count": 24,
     "metadata": {},
     "output_type": "execute_result"
    }
   ],
   "source": [
    "len(paraphrased_text)"
   ]
  },
  {
   "cell_type": "code",
   "execution_count": 32,
   "id": "fc229061",
   "metadata": {},
   "outputs": [],
   "source": [
    "final_text = []\n",
    "final_text += text[450:]\n",
    "final_text += paraphrased_text"
   ]
  },
  {
   "cell_type": "code",
   "execution_count": 33,
   "id": "7fe54165",
   "metadata": {},
   "outputs": [
    {
     "data": {
      "text/plain": [
       "144"
      ]
     },
     "execution_count": 33,
     "metadata": {},
     "output_type": "execute_result"
    }
   ],
   "source": [
    "len(final_text)"
   ]
  },
  {
   "cell_type": "code",
   "execution_count": 34,
   "id": "89712afa",
   "metadata": {},
   "outputs": [],
   "source": [
    "final_text.append(\"The Bus starts from Palau at 04:15 PM and goes to Sweden reaching at 4:45 PM\")\n",
    "final_text.append(\"The bus arrives at Sweden by 4:45 PM after departing from Palau at 4:45 PM\")"
   ]
  },
  {
   "cell_type": "code",
   "execution_count": 35,
   "id": "3d33d380",
   "metadata": {},
   "outputs": [
    {
     "data": {
      "text/plain": [
       "['The Bus starts from Holy See (Vatican City State) at 01:30 PM and goes to Bouvet Island reaching at 4:46 PM',\n",
       " 'The bus arrives at Bouvet Island by 4:46 PM after departing from Holy See (Vatican City State) at 4:46 PM',\n",
       " 'The Bus starts from Bangladesh at 06:22 PM and goes to Afghanistan reaching at 8:01 PM',\n",
       " 'The bus arrives at Afghanistan by 8:01 PM after departing from Bangladesh at 8:01 PM',\n",
       " 'The Bus starts from Mozambique at 09:27 AM and goes to Bouvet Island reaching at 11:19 AM',\n",
       " 'The bus arrives at Bouvet Island by 11:19 AM after departing from Mozambique at 11:19 AM',\n",
       " 'The Bus starts from Jamaica at 11:36 PM and goes to New Caledonia reaching at 3:02 AM',\n",
       " 'The bus arrives at New Caledonia by 3:02 AM after departing from Jamaica at 3:02 AM',\n",
       " 'The Bus starts from Holy See (Vatican City State) at 08:13 AM and goes to Montserrat reaching at 12:07 PM',\n",
       " 'The bus arrives at Montserrat by 12:07 PM after departing from Holy See (Vatican City State) at 12:07 PM',\n",
       " 'The Bus starts from Bangladesh at 10:32 PM and goes to Switzerland reaching at 5:03 AM',\n",
       " 'The bus arrives at Switzerland by 5:03 AM after departing from Bangladesh at 5:03 AM',\n",
       " 'The Bus starts from Kazakhstan at 10:11 AM and goes to Err:502 reaching at 5:31 PM',\n",
       " 'The bus arrives at Err:502 by 5:31 PM after departing from Kazakhstan at 5:31 PM',\n",
       " 'The Bus starts from Chile at 12:35 PM and goes to Qatar reaching at 7:20 PM',\n",
       " 'The bus arrives at Qatar by 7:20 PM after departing from Chile at 7:20 PM',\n",
       " 'The Bus starts from Jamaica at 10:29 PM and goes to Bangladesh reaching at 2:59 AM',\n",
       " 'The bus arrives at Bangladesh by 2:59 AM after departing from Jamaica at 2:59 AM',\n",
       " 'The Bus starts from South Georgia and the South Sandwich Islands at 09:31 PM and goes to Guyana reaching at 12:02 AM',\n",
       " 'The bus arrives at Guyana by 12:02 AM after departing from South Georgia and the South Sandwich Islands at 12:02 AM',\n",
       " 'The Bus starts from Mozambique at 02:46 AM and goes to Canada reaching at 7:49 AM',\n",
       " 'The bus arrives at Canada by 7:49 AM after departing from Mozambique at 7:49 AM',\n",
       " 'The Bus starts from Malawi at 12:34 AM and goes to Liechtenstein reaching at 6:25 AM',\n",
       " 'The bus arrives at Liechtenstein by 6:25 AM after departing from Malawi at 6:25 AM',\n",
       " 'The Bus starts from Mozambique at 12:31 AM and goes to Indonesia reaching at 3:01 AM',\n",
       " 'The bus arrives at Indonesia by 3:01 AM after departing from Mozambique at 3:01 AM',\n",
       " 'The Bus starts from Mauritania at 01:48 AM and goes to Indonesia reaching at 5:06 AM',\n",
       " 'The bus arrives at Indonesia by 5:06 AM after departing from Mauritania at 5:06 AM',\n",
       " 'The Bus starts from Yemen at 09:20 AM and goes to Guyana reaching at 4:37 PM',\n",
       " 'The bus arrives at Guyana by 4:37 PM after departing from Yemen at 4:37 PM',\n",
       " 'The Bus starts from French Southern Territories at 06:11 AM and goes to Bulgaria reaching at 8:45 AM',\n",
       " 'The bus arrives at Bulgaria by 8:45 AM after departing from French Southern Territories at 8:45 AM',\n",
       " 'The Bus starts from Jamaica at 07:56 AM and goes to Peru reaching at 12:25 PM',\n",
       " 'The bus arrives at Peru by 12:25 PM after departing from Jamaica at 12:25 PM',\n",
       " 'The Bus starts from Qatar at 01:30 AM and goes to Bouvet Island reaching at 4:49 AM',\n",
       " 'The bus arrives at Bouvet Island by 4:49 AM after departing from Qatar at 4:49 AM',\n",
       " 'The Bus starts from Mozambique at 02:49 AM and goes to Guyana reaching at 3:24 AM',\n",
       " 'The bus arrives at Guyana by 3:24 AM after departing from Mozambique at 3:24 AM',\n",
       " 'The Bus starts from United Arab Emirates at 11:05 AM and goes to Liechtenstein reaching at 11:25 AM',\n",
       " 'The bus arrives at Liechtenstein by 11:25 AM after departing from United Arab Emirates at 11:25 AM',\n",
       " 'The Bus starts from Cuba at 10:17 AM and goes to Yemen reaching at 12:14 PM',\n",
       " 'The bus arrives at Yemen by 12:14 PM after departing from Cuba at 12:14 PM',\n",
       " 'The Bus starts from Hungary at 08:25 AM and goes to Guyana reaching at 10:50 AM',\n",
       " 'The bus arrives at Guyana by 10:50 AM after departing from Hungary at 10:50 AM',\n",
       " 'The bus leaves Bangladesh at 06:22 PM and arrives in Afghanistan at 8:01.',\n",
       " 'The bus leaves Bangladesh at 06:22 PM and arrives in Afghanistan at 8:01 PM.',\n",
       " 'After leaving Bangladesh at 8:01 PM, the bus arrives at Afghanistan.',\n",
       " 'The bus leaves Bangladesh at 8:01 PM and arrives in Afghanistan at 8:01 PM.',\n",
       " 'The bus leaves Bangladesh at 8:01 PM and arrives at Afghanistan at 8:01 PM.',\n",
       " 'The bus leaves from Mozambique at 09:27 AM and arrives at Bouvet Island at 11:19 AM.',\n",
       " 'The bus leaves from Mozambique at 09:27 AM and arrives at Bouvet Island at 11:20 AM.',\n",
       " 'The bus leaves from Mozambique at 09:27 AM and goes to Bouvet Island at 11:19 AM.',\n",
       " 'The bus leaves Jamaica at 11:36 PM and arrives in New Caledonia at 3:02 AM.',\n",
       " 'The bus leaves Jamaica at 11:36 PM and goes to New Caledonia at 3:02 AM.',\n",
       " 'The bus leaves from Jamaica at 11:36 PM and arrives in New Caledonia at 3:02 AM.',\n",
       " 'The bus leaves Jamaica at 3:02 AM and arrives at New Caledonia at 3:02 AM.',\n",
       " 'The bus leaves Jamaica at 3:02 AM and arrives at New Caledonia by 3:02 AM.',\n",
       " 'The bus leaves Jamaica at 3:02 AM and arrives in New Caledonia at 3:02 AM.',\n",
       " 'The bus leaves Bangladesh at 10:32 PM and arrives in Switzerland at 5:03 AM.',\n",
       " 'The bus leaves Bangladesh at 10:32 PM and goes to Switzerland at 5:03 AM.',\n",
       " 'The bus leaves Bangladesh at 10:32PM and arrives in Switzerland at 5:03AM.',\n",
       " 'The bus leaves Bangladesh at 5:03 AM and arrives at Switzerland at 5:03 AM.',\n",
       " 'The bus leaves Bangladesh at 5:03 AM and arrives in Switzerland at 5:03 AM.',\n",
       " 'The bus leaves Bangladesh at 5:03 AM and arrives at Switzerland by 5:03 AM.',\n",
       " 'The bus leaves the country at 10:11 AM and arrives at 5:31 PM.',\n",
       " 'The bus leaves Kazakhstan at 10:11 AM and arrives at 5:31 PM.',\n",
       " 'The bus leaves from Kazakhstan at 10:11 AM and arrives at 5:31 PM.',\n",
       " 'The bus arrives at the airport at 5:31 PM after leaving the country.',\n",
       " 'The bus leaves from Chile at 13:05 PM and arrives in Qatar at 7:21 PM.',\n",
       " 'The bus leaves from Chile at 13:05PM and arrives in Qatar at 7:21PM.',\n",
       " 'The bus leaves from Chile at 12:35PM and arrives in Qatar at 7:21PM.',\n",
       " 'The bus leaves from Chile at 7:21 PM and arrives at Qatar at 7:21 PM.',\n",
       " 'The bus leaves from chile at 7:21 PM and arrives at qatar at 7:21 PM.',\n",
       " 'The bus leaves from Chile at 7:21 PM and arrives at Qatar at 8:20 PM.',\n",
       " 'The bus leaves Jamaica at 10:29 PM and arrives in Bangladesh at 2:59 AM.',\n",
       " 'The bus leaves Jamaica at 10:49 PM and arrives in Bangladesh at 2:59 AM.',\n",
       " 'The bus leaves Jamaica at 10:29 PM and goes to Bangladesh at 2:59 AM.',\n",
       " 'The bus arrives at Bangladesh at 2:59 AM after leaving Jamaica.',\n",
       " 'The bus leaves Jamaica at 2:59 AM and arrives in Bangladesh at 2:59 AM.',\n",
       " 'The bus leaves Jamaica at 2:59 AM and arrives at Bangladesh at 2:59 AM.',\n",
       " 'The bus leaves South Georgia and the South Sandwich Islands at 09:31 PM and arrives in Guyana at 12:02 AM.',\n",
       " 'The bus leaves South Georgia and the South Sandwich Islands at 09:31 PM and arrives in Georgetown at 12:02 AM.',\n",
       " 'The bus leaves from South Georgia and the South Sandwich Islands at 09:31 PM and arrives in Guyana at 12:02 AM.',\n",
       " 'The bus leaves South Georgia and the South Sandwich Islands at 12:14 AM to arrive at Guyana.',\n",
       " 'The bus leaves South Georgia and the South Sandwich Islands at 12:14 AM and arrives at Guyana at 12:14 AM.',\n",
       " 'After leaving from South Georgia and the South Sandwich Islands, the bus arrives at Guyana by 12:02 AM.',\n",
       " 'The bus arrives at Canada by 7:44 AM after leaving from Mozambique.',\n",
       " 'The bus arrives at Canada at 7:44 AM after leaving from Mozambique.',\n",
       " 'The bus arrives at Canada at 7:49 AM after leaving from Mozambique.',\n",
       " 'The bus leaves from Malawi at 12:34 AM and goes to Liechtenstein at 6:25 AM.',\n",
       " 'The bus leaves from Malawi at 12:34 AM and arrives in Liechtenstein at 6:25 AM.',\n",
       " 'The bus leaves Malawi at 12:34 AM and goes to Liechtenstein at 6:25 AM.',\n",
       " 'After leaving from Malawi, the bus arrives at Liechtenstein by 6:25 AM.',\n",
       " 'The bus leaves from Malawi at 6:25 AM and arrives at Liechtenstein at 6:25 AM.',\n",
       " 'The bus leaves from Malawi at 6:25 AM and arrives at Liechtenstein by 6:25 AM.',\n",
       " 'The bus leaves from Mozambique at 12:31 AM and goes to Indonesia at 3:01 AM.',\n",
       " 'The bus leaves from Mozambique at 12:31 AM and arrives in Indonesia at 3:01 AM.',\n",
       " 'The bus arrives at Indonesia at 3:01 AM after leaving from Mozambique.',\n",
       " 'The bus arrives at Indonesia at 3:01 AM after leaving at 3:01 AM.',\n",
       " 'The bus leaves from Mauritania and arrives in Indonesia at 5:06 AM.',\n",
       " 'The bus leaves from Mauritania at 5:06 AM and arrives at Indonesia at 5:06 AM.',\n",
       " 'After leaving from Mauritania, the bus arrives at Indonesia by 5:06 AM.',\n",
       " 'The bus leaves Yemen at 09:20 AM and arrives in Georgetown at 4:30 PM.',\n",
       " 'The bus leaves Yemen at 09:20 AM and arrives in Georgetown at 4:47 PM.',\n",
       " 'The bus leaves Yemen at 09:20 AM and arrives in Georgetown at 4:57 PM.',\n",
       " \"The bus leaves Yemen at 4:47 PM and arrives at Guyana at 888-492-0's by 4:47 PM.\",\n",
       " \"The bus leaves Yemen at 4:47 PM and arrives at Guyana at 888-492-0's by 4:30 PM.\",\n",
       " 'The bus leaves Yemen at 4:47 PM and arrives atGuyana at 4:57 PM.',\n",
       " 'The bus leaves French Southern Territories at 06:11 AM and arrives in Bulgaria at 8:45 AM.',\n",
       " 'The bus leaves French Southern Territories at 06:11 AM and goes to Bulgaria at 8:45 AM.',\n",
       " 'The bus leaves French Southern Territories at 06:11 AM and goes to Bulgaria at 9:00 AM.',\n",
       " 'The bus leaves French Southern Territories at 9:00 AM and arrives at Bulgaria by 8:45 AM.',\n",
       " 'The bus leaves French Southern Territories at 8:45 AM and arrives at Bulgaria by 8:45 AM.',\n",
       " 'The bus leaves French Southern Territories at 9:00 AM and arrives in Bulgaria by 8:45 AM.',\n",
       " 'The bus leaves Jamaica at 07:56 AM and arrives inPeru at 12:25 PM.',\n",
       " 'The bus leaves Jamaica at 07:56 AM and arrives in Peru at 12:25 PM.',\n",
       " 'The bus leaves Jamaica at 07:56 AM and goes to Peru at 12:25 PM.',\n",
       " 'The bus leaves Jamaica at 12:25 PM and arrives at Peru at 12:25 PM.',\n",
       " 'The bus leaves Jamaica at 12:25 PM and arrives inPeru at 12:25 PM.',\n",
       " 'The bus leaves Jamaica at 12:25 PM and arrives in Peru at 12:25 PM.',\n",
       " \"The bus leaves from Qatar at 1 o'clock and goes to Bouvet Island at 4 o'clock.\",\n",
       " \"The bus leaves fromQatar at 1 o'clock and goes to Bouvet Island at 4 o'clock.\",\n",
       " \"The bus leaves from Qatar at 1 o'clock and arrives on Bouvet Island at 4 o'clock.\",\n",
       " 'The bus arrives at Bouvet Island at 4:49 AM after leaving from Qatar.',\n",
       " 'The bus leaves from Mozambique at 02:49 AM and arrives in Guyana at 3:20 AM.',\n",
       " 'The bus leaves from Mozambique at 02:49 AM and goes to Guyana at 3:20 AM.',\n",
       " 'The bus leaves from Mozambique at 02:49 AM and arrives in Georgetown at 3:20 AM.',\n",
       " 'The bus leaves the United Arab Emirates at 11:05 AM and arrives in Liechtenstein at 11:25 AM.',\n",
       " 'The bus leaves the United Arab Emirates at 11:05 AM and goes to Liechtenstein at 11:25 AM.',\n",
       " 'The bus leaves the United Arab Emirates at 11:05 AM and arrives in Liechtenstein at 11:25AM.',\n",
       " 'The bus arrives at Liechtenstein at 11:25 AM after leaving the United Arab Emirates.',\n",
       " 'The bus arrives at Liechtenstein by 11:25 AM after leaving the United Arab Emirates.',\n",
       " 'The bus leaves the United Arab Emirates at 11:25 AM and arrives at Liechtenstein by 11:25 AM.',\n",
       " 'The bus leaves Cuba at 10:17 AM and arrives in Yemen at 12:14 PM.',\n",
       " 'The bus leaves Cuba at 10:17 AM and goes to Yemen at 12:14 PM.',\n",
       " 'The bus leaves Cuba at 12:14 PM and arrives at Yemen at 12:14 PM.',\n",
       " 'The bus leaves Cuba at 12:14PM and arrives at Yemen at 12:14PM.',\n",
       " 'The bus leaves Cuba at 12:14 PM and arrives in Yemen at 12:14 PM.',\n",
       " 'The bus leaves Hungary at 08:25 AM and arrives in Guyana at 10:50 AM.',\n",
       " 'The bus leaves Hungary at 08:25 AM and arrives in Georgetown at 10:50 AM.',\n",
       " 'The bus leaves Hungary at 08:25 AM and arrives inGuyana at 10:50 AM.',\n",
       " 'The bus leaves Hungary at 10:50 AM and arrives at Guyana by 10:50 AM.',\n",
       " 'The bus leaves Hungary at 10:50 AM and arrives at Guyana at 10:50 AM.',\n",
       " 'The bus leaves Hungary at 10:50 AM and arrives atGuyana by 10:50 AM.',\n",
       " 'The Bus starts from Palau at 04:15 PM and goes to Sweden reaching at 4:45 PM',\n",
       " 'The bus arrives at Sweden by 4:45 PM after departing from Palau at 4:45 PM']"
      ]
     },
     "execution_count": 35,
     "metadata": {},
     "output_type": "execute_result"
    }
   ],
   "source": [
    "final_text"
   ]
  },
  {
   "cell_type": "code",
   "execution_count": 36,
   "id": "3cafe46f",
   "metadata": {},
   "outputs": [
    {
     "data": {
      "text/plain": [
       "146"
      ]
     },
     "execution_count": 36,
     "metadata": {},
     "output_type": "execute_result"
    }
   ],
   "source": [
    "len(final_text)"
   ]
  },
  {
   "cell_type": "code",
   "execution_count": 37,
   "id": "4d91e9b8",
   "metadata": {},
   "outputs": [],
   "source": [
    "paraphrased_df = pd.DataFrame({'text': final_text})"
   ]
  },
  {
   "cell_type": "code",
   "execution_count": 38,
   "id": "c06915a1",
   "metadata": {},
   "outputs": [
    {
     "data": {
      "text/html": [
       "<div>\n",
       "<style scoped>\n",
       "    .dataframe tbody tr th:only-of-type {\n",
       "        vertical-align: middle;\n",
       "    }\n",
       "\n",
       "    .dataframe tbody tr th {\n",
       "        vertical-align: top;\n",
       "    }\n",
       "\n",
       "    .dataframe thead th {\n",
       "        text-align: right;\n",
       "    }\n",
       "</style>\n",
       "<table border=\"1\" class=\"dataframe\">\n",
       "  <thead>\n",
       "    <tr style=\"text-align: right;\">\n",
       "      <th></th>\n",
       "      <th>text</th>\n",
       "    </tr>\n",
       "  </thead>\n",
       "  <tbody>\n",
       "    <tr>\n",
       "      <th>0</th>\n",
       "      <td>The Bus starts from Holy See (Vatican City Sta...</td>\n",
       "    </tr>\n",
       "    <tr>\n",
       "      <th>1</th>\n",
       "      <td>The bus arrives at Bouvet Island by 4:46 PM af...</td>\n",
       "    </tr>\n",
       "    <tr>\n",
       "      <th>2</th>\n",
       "      <td>The Bus starts from Bangladesh at 06:22 PM and...</td>\n",
       "    </tr>\n",
       "    <tr>\n",
       "      <th>3</th>\n",
       "      <td>The bus arrives at Afghanistan by 8:01 PM afte...</td>\n",
       "    </tr>\n",
       "    <tr>\n",
       "      <th>4</th>\n",
       "      <td>The Bus starts from Mozambique at 09:27 AM and...</td>\n",
       "    </tr>\n",
       "    <tr>\n",
       "      <th>...</th>\n",
       "      <td>...</td>\n",
       "    </tr>\n",
       "    <tr>\n",
       "      <th>141</th>\n",
       "      <td>The bus leaves Hungary at 10:50 AM and arrives...</td>\n",
       "    </tr>\n",
       "    <tr>\n",
       "      <th>142</th>\n",
       "      <td>The bus leaves Hungary at 10:50 AM and arrives...</td>\n",
       "    </tr>\n",
       "    <tr>\n",
       "      <th>143</th>\n",
       "      <td>The bus leaves Hungary at 10:50 AM and arrives...</td>\n",
       "    </tr>\n",
       "    <tr>\n",
       "      <th>144</th>\n",
       "      <td>The Bus starts from Palau at 04:15 PM and goes...</td>\n",
       "    </tr>\n",
       "    <tr>\n",
       "      <th>145</th>\n",
       "      <td>The bus arrives at Sweden by 4:45 PM after dep...</td>\n",
       "    </tr>\n",
       "  </tbody>\n",
       "</table>\n",
       "<p>146 rows × 1 columns</p>\n",
       "</div>"
      ],
      "text/plain": [
       "                                                  text\n",
       "0    The Bus starts from Holy See (Vatican City Sta...\n",
       "1    The bus arrives at Bouvet Island by 4:46 PM af...\n",
       "2    The Bus starts from Bangladesh at 06:22 PM and...\n",
       "3    The bus arrives at Afghanistan by 8:01 PM afte...\n",
       "4    The Bus starts from Mozambique at 09:27 AM and...\n",
       "..                                                 ...\n",
       "141  The bus leaves Hungary at 10:50 AM and arrives...\n",
       "142  The bus leaves Hungary at 10:50 AM and arrives...\n",
       "143  The bus leaves Hungary at 10:50 AM and arrives...\n",
       "144  The Bus starts from Palau at 04:15 PM and goes...\n",
       "145  The bus arrives at Sweden by 4:45 PM after dep...\n",
       "\n",
       "[146 rows x 1 columns]"
      ]
     },
     "execution_count": 38,
     "metadata": {},
     "output_type": "execute_result"
    }
   ],
   "source": [
    "paraphrased_df"
   ]
  },
  {
   "cell_type": "code",
   "execution_count": 39,
   "id": "592ef66d",
   "metadata": {},
   "outputs": [],
   "source": [
    "df = pd.read_csv('../Dataset/paraphrased_data.csv')"
   ]
  },
  {
   "cell_type": "code",
   "execution_count": 40,
   "id": "bf85058c",
   "metadata": {},
   "outputs": [
    {
     "data": {
      "text/html": [
       "<div>\n",
       "<style scoped>\n",
       "    .dataframe tbody tr th:only-of-type {\n",
       "        vertical-align: middle;\n",
       "    }\n",
       "\n",
       "    .dataframe tbody tr th {\n",
       "        vertical-align: top;\n",
       "    }\n",
       "\n",
       "    .dataframe thead th {\n",
       "        text-align: right;\n",
       "    }\n",
       "</style>\n",
       "<table border=\"1\" class=\"dataframe\">\n",
       "  <thead>\n",
       "    <tr style=\"text-align: right;\">\n",
       "      <th></th>\n",
       "      <th>text</th>\n",
       "    </tr>\n",
       "  </thead>\n",
       "  <tbody>\n",
       "    <tr>\n",
       "      <th>0</th>\n",
       "      <td>The Bus starts from Rwanda at 02:51 AM and goe...</td>\n",
       "    </tr>\n",
       "    <tr>\n",
       "      <th>1</th>\n",
       "      <td>The bus arrives at Switzerland by 8:13 AM afte...</td>\n",
       "    </tr>\n",
       "    <tr>\n",
       "      <th>2</th>\n",
       "      <td>The Bus starts from United Kingdom at 09:58 AM...</td>\n",
       "    </tr>\n",
       "    <tr>\n",
       "      <th>3</th>\n",
       "      <td>The bus arrives at United States Minor Outlyin...</td>\n",
       "    </tr>\n",
       "    <tr>\n",
       "      <th>4</th>\n",
       "      <td>The Bus starts from United Arab Emirates at 06...</td>\n",
       "    </tr>\n",
       "    <tr>\n",
       "      <th>...</th>\n",
       "      <td>...</td>\n",
       "    </tr>\n",
       "    <tr>\n",
       "      <th>1561</th>\n",
       "      <td>The bus leaves Ethiopia at 9:54 AM and arrives...</td>\n",
       "    </tr>\n",
       "    <tr>\n",
       "      <th>1562</th>\n",
       "      <td>The bus leaves Ethiopia at 9:54 AM and arrives...</td>\n",
       "    </tr>\n",
       "    <tr>\n",
       "      <th>1563</th>\n",
       "      <td>The bus arrives at Switzerland at 9:54 AM afte...</td>\n",
       "    </tr>\n",
       "    <tr>\n",
       "      <th>1564</th>\n",
       "      <td>The Bus starts from French Guiana at 02:04 PM ...</td>\n",
       "    </tr>\n",
       "    <tr>\n",
       "      <th>1565</th>\n",
       "      <td>The bus arrives at Yemen by 4:15 PM after depa...</td>\n",
       "    </tr>\n",
       "  </tbody>\n",
       "</table>\n",
       "<p>1566 rows × 1 columns</p>\n",
       "</div>"
      ],
      "text/plain": [
       "                                                   text\n",
       "0     The Bus starts from Rwanda at 02:51 AM and goe...\n",
       "1     The bus arrives at Switzerland by 8:13 AM afte...\n",
       "2     The Bus starts from United Kingdom at 09:58 AM...\n",
       "3     The bus arrives at United States Minor Outlyin...\n",
       "4     The Bus starts from United Arab Emirates at 06...\n",
       "...                                                 ...\n",
       "1561  The bus leaves Ethiopia at 9:54 AM and arrives...\n",
       "1562  The bus leaves Ethiopia at 9:54 AM and arrives...\n",
       "1563  The bus arrives at Switzerland at 9:54 AM afte...\n",
       "1564  The Bus starts from French Guiana at 02:04 PM ...\n",
       "1565  The bus arrives at Yemen by 4:15 PM after depa...\n",
       "\n",
       "[1566 rows x 1 columns]"
      ]
     },
     "execution_count": 40,
     "metadata": {},
     "output_type": "execute_result"
    }
   ],
   "source": [
    "df"
   ]
  },
  {
   "cell_type": "code",
   "execution_count": 42,
   "id": "8828dcbe",
   "metadata": {},
   "outputs": [],
   "source": [
    "final_df = pd.concat([df, paraphrased_df])"
   ]
  },
  {
   "cell_type": "code",
   "execution_count": 44,
   "id": "7b31b460",
   "metadata": {},
   "outputs": [],
   "source": [
    "final_df.to_csv('../Dataset/final_paraphrased_df.csv', index=False)"
   ]
  },
  {
   "cell_type": "code",
   "execution_count": 45,
   "id": "acf04524",
   "metadata": {},
   "outputs": [
    {
     "data": {
      "text/html": [
       "<div>\n",
       "<style scoped>\n",
       "    .dataframe tbody tr th:only-of-type {\n",
       "        vertical-align: middle;\n",
       "    }\n",
       "\n",
       "    .dataframe tbody tr th {\n",
       "        vertical-align: top;\n",
       "    }\n",
       "\n",
       "    .dataframe thead th {\n",
       "        text-align: right;\n",
       "    }\n",
       "</style>\n",
       "<table border=\"1\" class=\"dataframe\">\n",
       "  <thead>\n",
       "    <tr style=\"text-align: right;\">\n",
       "      <th></th>\n",
       "      <th>text</th>\n",
       "    </tr>\n",
       "  </thead>\n",
       "  <tbody>\n",
       "    <tr>\n",
       "      <th>0</th>\n",
       "      <td>The Bus starts from Rwanda at 02:51 AM and goe...</td>\n",
       "    </tr>\n",
       "    <tr>\n",
       "      <th>1</th>\n",
       "      <td>The bus arrives at Switzerland by 8:13 AM afte...</td>\n",
       "    </tr>\n",
       "    <tr>\n",
       "      <th>2</th>\n",
       "      <td>The Bus starts from United Kingdom at 09:58 AM...</td>\n",
       "    </tr>\n",
       "    <tr>\n",
       "      <th>3</th>\n",
       "      <td>The bus arrives at United States Minor Outlyin...</td>\n",
       "    </tr>\n",
       "    <tr>\n",
       "      <th>4</th>\n",
       "      <td>The Bus starts from United Arab Emirates at 06...</td>\n",
       "    </tr>\n",
       "    <tr>\n",
       "      <th>...</th>\n",
       "      <td>...</td>\n",
       "    </tr>\n",
       "    <tr>\n",
       "      <th>141</th>\n",
       "      <td>The bus leaves Hungary at 10:50 AM and arrives...</td>\n",
       "    </tr>\n",
       "    <tr>\n",
       "      <th>142</th>\n",
       "      <td>The bus leaves Hungary at 10:50 AM and arrives...</td>\n",
       "    </tr>\n",
       "    <tr>\n",
       "      <th>143</th>\n",
       "      <td>The bus leaves Hungary at 10:50 AM and arrives...</td>\n",
       "    </tr>\n",
       "    <tr>\n",
       "      <th>144</th>\n",
       "      <td>The Bus starts from Palau at 04:15 PM and goes...</td>\n",
       "    </tr>\n",
       "    <tr>\n",
       "      <th>145</th>\n",
       "      <td>The bus arrives at Sweden by 4:45 PM after dep...</td>\n",
       "    </tr>\n",
       "  </tbody>\n",
       "</table>\n",
       "<p>1712 rows × 1 columns</p>\n",
       "</div>"
      ],
      "text/plain": [
       "                                                  text\n",
       "0    The Bus starts from Rwanda at 02:51 AM and goe...\n",
       "1    The bus arrives at Switzerland by 8:13 AM afte...\n",
       "2    The Bus starts from United Kingdom at 09:58 AM...\n",
       "3    The bus arrives at United States Minor Outlyin...\n",
       "4    The Bus starts from United Arab Emirates at 06...\n",
       "..                                                 ...\n",
       "141  The bus leaves Hungary at 10:50 AM and arrives...\n",
       "142  The bus leaves Hungary at 10:50 AM and arrives...\n",
       "143  The bus leaves Hungary at 10:50 AM and arrives...\n",
       "144  The Bus starts from Palau at 04:15 PM and goes...\n",
       "145  The bus arrives at Sweden by 4:45 PM after dep...\n",
       "\n",
       "[1712 rows x 1 columns]"
      ]
     },
     "execution_count": 45,
     "metadata": {},
     "output_type": "execute_result"
    }
   ],
   "source": [
    "final_df"
   ]
  }
 ],
 "metadata": {
  "kernelspec": {
   "display_name": "Python 3 (ipykernel)",
   "language": "python",
   "name": "python3"
  },
  "language_info": {
   "codemirror_mode": {
    "name": "ipython",
    "version": 3
   },
   "file_extension": ".py",
   "mimetype": "text/x-python",
   "name": "python",
   "nbconvert_exporter": "python",
   "pygments_lexer": "ipython3",
   "version": "3.10.0"
  }
 },
 "nbformat": 4,
 "nbformat_minor": 5
}
